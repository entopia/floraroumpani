{
 "cells": [
  {
   "cell_type": "markdown",
   "id": "a7399eec",
   "metadata": {},
   "source": [
    "## Configure Jupiter Notebook to enable environments"
   ]
  },
  {
   "cell_type": "markdown",
   "id": "4bca3c3f",
   "metadata": {},
   "source": [
    "### How to add your Conda environment to your jupyter notebook in just 4 steps\n"
   ]
  },
  {
   "cell_type": "markdown",
   "id": "3b517abe",
   "metadata": {},
   "source": [
    "In this article I am going to detail the steps, to add the Conda environment to your Jupyter notebook."
   ]
  },
  {
   "cell_type": "markdown",
   "id": "7fe68ff0",
   "metadata": {},
   "source": [
    "**Step 1:**  Open the ```Anaconda Prompt``` console and create a Conda environment. If you havent installed Anaconda please install from this website: https://docs.anaconda.com/anaconda/install/index.html. \n",
    "Lets create a new environment with the name \"webmapenv\". To do this we simply type: "
   ]
  },
  {
   "cell_type": "markdown",
   "id": "deacf60b",
   "metadata": {},
   "source": [
    "```conda create --name webmapenv```"
   ]
  },
  {
   "cell_type": "markdown",
   "id": "7173758b",
   "metadata": {},
   "source": [
    "Activate the environment using the command as shown in the console."
   ]
  },
  {
   "cell_type": "markdown",
   "id": "fa6ceb31",
   "metadata": {},
   "source": [
    "```conda activate webmapenv```"
   ]
  },
  {
   "cell_type": "markdown",
   "id": "a1d585b2",
   "metadata": {},
   "source": [
    "**Step 2:** After you activate it, you can install any package you need in this environment using the command ```conda install```.\n",
    "We are going to install geopandas in this environment, a library to help us do advanced geospatial calculations. "
   ]
  },
  {
   "cell_type": "markdown",
   "id": "5b3048e2",
   "metadata": {},
   "source": [
    "```conda install --channel conda-forge geopandas```"
   ]
  },
  {
   "cell_type": "markdown",
   "id": "9ce13628",
   "metadata": {},
   "source": [
    "**Step 3:** Now you have successfully installed numpy. Congratulations!!\n",
    "Now comes the step to set this conda environment on your jupyter notebook, to do so you will need to install ipykernel."
   ]
  },
  {
   "cell_type": "markdown",
   "id": "56312780",
   "metadata": {},
   "source": [
    "```conda install -c anaconda ipykernel```"
   ]
  },
  {
   "cell_type": "markdown",
   "id": "47a5f1a8",
   "metadata": {},
   "source": [
    "After installing this, add your environment to the Jupyter notebooks with:"
   ]
  },
  {
   "cell_type": "markdown",
   "id": "c60cc3c6",
   "metadata": {},
   "source": [
    "```python -m ipykernel install --user --name=webmapenv```"
   ]
  },
  {
   "cell_type": "markdown",
   "id": "741c21c4",
   "metadata": {},
   "source": [
    "**Step 4:**  Just check your Jupyter Notebook, to see the environment you have created."
   ]
  },
  {
   "cell_type": "markdown",
   "id": "0389ddaa",
   "metadata": {},
   "source": [
    "![image.png](https://miro.medium.com/max/1400/1*QpkEdJSnvDDhIWRIxGMr5A.png)"
   ]
  }
 ],
 "metadata": {
  "kernelspec": {
   "display_name": "Python 3",
   "language": "python",
   "name": "python3"
  },
  "language_info": {
   "codemirror_mode": {
    "name": "ipython",
    "version": 3
   },
   "file_extension": ".py",
   "mimetype": "text/x-python",
   "name": "python",
   "nbconvert_exporter": "python",
   "pygments_lexer": "ipython3",
   "version": "3.8.8"
  }
 },
 "nbformat": 4,
 "nbformat_minor": 5
}
